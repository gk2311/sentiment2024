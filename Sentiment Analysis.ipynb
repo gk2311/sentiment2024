{
 "cells": [
  {
   "cell_type": "markdown",
   "id": "19300c9b",
   "metadata": {},
   "source": [
    "# Sentiment Analysis Carrying forward Module 16.2\n",
    "\n",
    "In module 16.2, we pre-processed the text. Let us now try to build a model."
   ]
  },
  {
   "cell_type": "markdown",
   "id": "c2ad9c4a",
   "metadata": {},
   "source": [
    "# 1: Importing Necessary Libraries\n",
    "\n",
    "In this cell, we'll import the necessary libraries to handle data processing and text cleaning. These include pandas for data manipulation, NLTK for natural language processing, and contractions for handling contractions in the text."
   ]
  },
  {
   "cell_type": "code",
   "execution_count": 1,
   "id": "21df8ebb",
   "metadata": {},
   "outputs": [
    {
     "name": "stderr",
     "output_type": "stream",
     "text": [
      "/Users/gurkirankaur/opt/anaconda3/lib/python3.9/site-packages/scipy/__init__.py:146: UserWarning: A NumPy version >=1.16.5 and <1.23.0 is required for this version of SciPy (detected version 1.24.3\n",
      "  warnings.warn(f\"A NumPy version >={np_minversion} and <{np_maxversion}\"\n"
     ]
    }
   ],
   "source": [
    "import pandas as pd\n",
    "import numpy as np\n",
    "from sklearn.preprocessing import LabelEncoder\n",
    "from sklearn.model_selection import train_test_split\n",
    "from sklearn.feature_extraction.text import TfidfVectorizer\n",
    "from sklearn.linear_model import LogisticRegression\n",
    "from sklearn.metrics import accuracy_score, classification_report\n",
    "from sklearn.metrics import confusion_matrix\n",
    "import seaborn as sns\n",
    "import matplotlib.pyplot as plt\n",
    "from sklearn.metrics import roc_curve, auc\n",
    "from sklearn.preprocessing import label_binarize\n",
    "from sklearn.metrics import roc_auc_score, roc_curve\n",
    "from sklearn.multiclass import OneVsRestClassifier\n",
    "from sklearn.ensemble import RandomForestClassifier\n",
    "from sklearn.svm import SVC"
   ]
  },
  {
   "cell_type": "markdown",
   "id": "44bd1cec",
   "metadata": {},
   "source": [
    "# 2: Reading Data\n",
    "\n",
    "Here we are reading the 'tweets_clean.csv' file into a DataFrame. We're using the 'utf-8' encoding to avoid issues with special characters.\n",
    "\n",
    "The tweets I collected were on Apple's iPhone"
   ]
  },
  {
   "cell_type": "code",
   "execution_count": 2,
   "id": "d3b7e111",
   "metadata": {},
   "outputs": [],
   "source": [
    "with open('tweets_clean.csv', encoding='utf-8') as f:\n",
    "    rws = pd.read_csv(f)"
   ]
  },
  {
   "cell_type": "code",
   "execution_count": 3,
   "id": "1d528c5c",
   "metadata": {},
   "outputs": [
    {
     "data": {
      "text/html": [
       "<div>\n",
       "<style scoped>\n",
       "    .dataframe tbody tr th:only-of-type {\n",
       "        vertical-align: middle;\n",
       "    }\n",
       "\n",
       "    .dataframe tbody tr th {\n",
       "        vertical-align: top;\n",
       "    }\n",
       "\n",
       "    .dataframe thead th {\n",
       "        text-align: right;\n",
       "    }\n",
       "</style>\n",
       "<table border=\"1\" class=\"dataframe\">\n",
       "  <thead>\n",
       "    <tr style=\"text-align: right;\">\n",
       "      <th></th>\n",
       "      <th>Unnamed: 0</th>\n",
       "      <th>text</th>\n",
       "      <th>selected_text</th>\n",
       "      <th>sentiment</th>\n",
       "      <th>no_contract</th>\n",
       "      <th>tokenized</th>\n",
       "      <th>lower</th>\n",
       "      <th>no_punc</th>\n",
       "      <th>stopwords_removed</th>\n",
       "      <th>filtered</th>\n",
       "      <th>pos_tags</th>\n",
       "      <th>wordnet_pos</th>\n",
       "      <th>lemmatized</th>\n",
       "    </tr>\n",
       "  </thead>\n",
       "  <tbody>\n",
       "    <tr>\n",
       "      <th>0</th>\n",
       "      <td>0</td>\n",
       "      <td>I`d have responded, if I were going</td>\n",
       "      <td>I`d have responded, if I were going</td>\n",
       "      <td>neutral</td>\n",
       "      <td>['I`d', 'have', 'responded,', 'if', 'I', 'were...</td>\n",
       "      <td>['I', '`', 'd', 'have', 'responded', ',', 'if'...</td>\n",
       "      <td>['i', '`', 'd', 'have', 'responded', ',', 'if'...</td>\n",
       "      <td>['i', 'd', 'have', 'responded', 'if', 'i', 'we...</td>\n",
       "      <td>['responded', 'going']</td>\n",
       "      <td>['responded', 'going']</td>\n",
       "      <td>[('responded', 'VBD'), ('going', 'VBG')]</td>\n",
       "      <td>[('responded', 'v'), ('going', 'v')]</td>\n",
       "      <td>['respond', 'go']</td>\n",
       "    </tr>\n",
       "    <tr>\n",
       "      <th>1</th>\n",
       "      <td>1</td>\n",
       "      <td>Sooo SAD I will miss you here in San Diego!!!</td>\n",
       "      <td>Sooo SAD</td>\n",
       "      <td>negative</td>\n",
       "      <td>['Sooo', 'SAD', 'I', 'will', 'miss', 'you', 'h...</td>\n",
       "      <td>['Sooo', 'SAD', 'I', 'will', 'miss', 'you', 'h...</td>\n",
       "      <td>['sooo', 'sad', 'i', 'will', 'miss', 'you', 'h...</td>\n",
       "      <td>['sooo', 'sad', 'i', 'will', 'miss', 'you', 'h...</td>\n",
       "      <td>['sooo', 'sad', 'miss', 'san', 'diego']</td>\n",
       "      <td>['sooo', 'sad', 'miss', 'san', 'diego']</td>\n",
       "      <td>[('sooo', 'JJ'), ('sad', 'JJ'), ('miss', 'NN')...</td>\n",
       "      <td>[('sooo', 'a'), ('sad', 'a'), ('miss', 'n'), (...</td>\n",
       "      <td>['sooo', 'sad', 'miss', 'san', 'diego']</td>\n",
       "    </tr>\n",
       "    <tr>\n",
       "      <th>2</th>\n",
       "      <td>2</td>\n",
       "      <td>my boss is bullying me...</td>\n",
       "      <td>bullying me</td>\n",
       "      <td>negative</td>\n",
       "      <td>['my', 'boss', 'is', 'bullying', 'me...']</td>\n",
       "      <td>['my', 'boss', 'is', 'bullying', 'me', '...']</td>\n",
       "      <td>['my', 'boss', 'is', 'bullying', 'me', '...']</td>\n",
       "      <td>['my', 'boss', 'is', 'bullying', 'me', '...']</td>\n",
       "      <td>['boss', 'bullying', '...']</td>\n",
       "      <td>['boss', 'bullying', '']</td>\n",
       "      <td>[('boss', 'IN'), ('bullying', 'VBG'), ('', 'NN')]</td>\n",
       "      <td>[('boss', 'n'), ('bullying', 'v'), ('', 'n')]</td>\n",
       "      <td>['bos', 'bully', '']</td>\n",
       "    </tr>\n",
       "    <tr>\n",
       "      <th>3</th>\n",
       "      <td>3</td>\n",
       "      <td>what interview! leave me alone</td>\n",
       "      <td>leave me alone</td>\n",
       "      <td>negative</td>\n",
       "      <td>['what', 'interview!', 'leave', 'me', 'alone']</td>\n",
       "      <td>['what', 'interview', '!', 'leave', 'me', 'alo...</td>\n",
       "      <td>['what', 'interview', '!', 'leave', 'me', 'alo...</td>\n",
       "      <td>['what', 'interview', 'leave', 'me', 'alone']</td>\n",
       "      <td>['interview', 'leave', 'alone']</td>\n",
       "      <td>['interview', 'leave', 'alone']</td>\n",
       "      <td>[('interview', 'NN'), ('leave', 'VBP'), ('alon...</td>\n",
       "      <td>[('interview', 'n'), ('leave', 'v'), ('alone',...</td>\n",
       "      <td>['interview', 'leave', 'alone']</td>\n",
       "    </tr>\n",
       "    <tr>\n",
       "      <th>4</th>\n",
       "      <td>4</td>\n",
       "      <td>Sons of ****, why couldn`t they put them on t...</td>\n",
       "      <td>Sons of ****,</td>\n",
       "      <td>negative</td>\n",
       "      <td>['Sons', 'of', '****,', 'why', 'couldn`t', 'th...</td>\n",
       "      <td>['Sons', 'of', '*', '*', '*', '*', ',', 'why',...</td>\n",
       "      <td>['sons', 'of', '*', '*', '*', '*', ',', 'why',...</td>\n",
       "      <td>['sons', 'of', 'why', 'couldn', 't', 'they', '...</td>\n",
       "      <td>['sons', 'put', 'releases', 'already', 'bought']</td>\n",
       "      <td>['sons', 'put', 'releases', 'already', 'bought']</td>\n",
       "      <td>[('sons', 'NNS'), ('put', 'VBP'), ('releases',...</td>\n",
       "      <td>[('sons', 'n'), ('put', 'v'), ('releases', 'n'...</td>\n",
       "      <td>['son', 'put', 'release', 'already', 'buy']</td>\n",
       "    </tr>\n",
       "  </tbody>\n",
       "</table>\n",
       "</div>"
      ],
      "text/plain": [
       "   Unnamed: 0                                               text  \\\n",
       "0           0                I`d have responded, if I were going   \n",
       "1           1      Sooo SAD I will miss you here in San Diego!!!   \n",
       "2           2                          my boss is bullying me...   \n",
       "3           3                     what interview! leave me alone   \n",
       "4           4   Sons of ****, why couldn`t they put them on t...   \n",
       "\n",
       "                         selected_text sentiment  \\\n",
       "0  I`d have responded, if I were going   neutral   \n",
       "1                             Sooo SAD  negative   \n",
       "2                          bullying me  negative   \n",
       "3                       leave me alone  negative   \n",
       "4                        Sons of ****,  negative   \n",
       "\n",
       "                                         no_contract  \\\n",
       "0  ['I`d', 'have', 'responded,', 'if', 'I', 'were...   \n",
       "1  ['Sooo', 'SAD', 'I', 'will', 'miss', 'you', 'h...   \n",
       "2          ['my', 'boss', 'is', 'bullying', 'me...']   \n",
       "3     ['what', 'interview!', 'leave', 'me', 'alone']   \n",
       "4  ['Sons', 'of', '****,', 'why', 'couldn`t', 'th...   \n",
       "\n",
       "                                           tokenized  \\\n",
       "0  ['I', '`', 'd', 'have', 'responded', ',', 'if'...   \n",
       "1  ['Sooo', 'SAD', 'I', 'will', 'miss', 'you', 'h...   \n",
       "2      ['my', 'boss', 'is', 'bullying', 'me', '...']   \n",
       "3  ['what', 'interview', '!', 'leave', 'me', 'alo...   \n",
       "4  ['Sons', 'of', '*', '*', '*', '*', ',', 'why',...   \n",
       "\n",
       "                                               lower  \\\n",
       "0  ['i', '`', 'd', 'have', 'responded', ',', 'if'...   \n",
       "1  ['sooo', 'sad', 'i', 'will', 'miss', 'you', 'h...   \n",
       "2      ['my', 'boss', 'is', 'bullying', 'me', '...']   \n",
       "3  ['what', 'interview', '!', 'leave', 'me', 'alo...   \n",
       "4  ['sons', 'of', '*', '*', '*', '*', ',', 'why',...   \n",
       "\n",
       "                                             no_punc  \\\n",
       "0  ['i', 'd', 'have', 'responded', 'if', 'i', 'we...   \n",
       "1  ['sooo', 'sad', 'i', 'will', 'miss', 'you', 'h...   \n",
       "2      ['my', 'boss', 'is', 'bullying', 'me', '...']   \n",
       "3      ['what', 'interview', 'leave', 'me', 'alone']   \n",
       "4  ['sons', 'of', 'why', 'couldn', 't', 'they', '...   \n",
       "\n",
       "                                  stopwords_removed  \\\n",
       "0                            ['responded', 'going']   \n",
       "1           ['sooo', 'sad', 'miss', 'san', 'diego']   \n",
       "2                       ['boss', 'bullying', '...']   \n",
       "3                   ['interview', 'leave', 'alone']   \n",
       "4  ['sons', 'put', 'releases', 'already', 'bought']   \n",
       "\n",
       "                                           filtered  \\\n",
       "0                            ['responded', 'going']   \n",
       "1           ['sooo', 'sad', 'miss', 'san', 'diego']   \n",
       "2                          ['boss', 'bullying', '']   \n",
       "3                   ['interview', 'leave', 'alone']   \n",
       "4  ['sons', 'put', 'releases', 'already', 'bought']   \n",
       "\n",
       "                                            pos_tags  \\\n",
       "0           [('responded', 'VBD'), ('going', 'VBG')]   \n",
       "1  [('sooo', 'JJ'), ('sad', 'JJ'), ('miss', 'NN')...   \n",
       "2  [('boss', 'IN'), ('bullying', 'VBG'), ('', 'NN')]   \n",
       "3  [('interview', 'NN'), ('leave', 'VBP'), ('alon...   \n",
       "4  [('sons', 'NNS'), ('put', 'VBP'), ('releases',...   \n",
       "\n",
       "                                         wordnet_pos  \\\n",
       "0               [('responded', 'v'), ('going', 'v')]   \n",
       "1  [('sooo', 'a'), ('sad', 'a'), ('miss', 'n'), (...   \n",
       "2      [('boss', 'n'), ('bullying', 'v'), ('', 'n')]   \n",
       "3  [('interview', 'n'), ('leave', 'v'), ('alone',...   \n",
       "4  [('sons', 'n'), ('put', 'v'), ('releases', 'n'...   \n",
       "\n",
       "                                    lemmatized  \n",
       "0                            ['respond', 'go']  \n",
       "1      ['sooo', 'sad', 'miss', 'san', 'diego']  \n",
       "2                         ['bos', 'bully', '']  \n",
       "3              ['interview', 'leave', 'alone']  \n",
       "4  ['son', 'put', 'release', 'already', 'buy']  "
      ]
     },
     "execution_count": 3,
     "metadata": {},
     "output_type": "execute_result"
    }
   ],
   "source": [
    "rws.head()"
   ]
  },
  {
   "cell_type": "code",
   "execution_count": 4,
   "id": "1a76b158",
   "metadata": {},
   "outputs": [
    {
     "data": {
      "text/plain": [
       "(27480, 13)"
      ]
     },
     "execution_count": 4,
     "metadata": {},
     "output_type": "execute_result"
    }
   ],
   "source": [
    "rws.shape"
   ]
  },
  {
   "cell_type": "markdown",
   "id": "7ca45d9c",
   "metadata": {},
   "source": [
    "By specifying the encoding as 'utf-8', you're informing the system to interpret the bytes in the file using the UTF-8 encoding, which usually handles special characters well.\n",
    "\n",
    "Make sure that the CSV file is actually encoded in UTF-8. If you still encounter issues, you may want to open the CSV file in a text editor that allows you to view and change the encoding (such as Notepad++), and make sure it's saved in UTF-8 format."
   ]
  },
  {
   "cell_type": "markdown",
   "id": "747a42ca",
   "metadata": {},
   "source": [
    "# 3: Encoding Sentiment Labels\n",
    "\n",
    "First, we need to encode the sentiment labels into numerical values, as models can't handle textual labels."
   ]
  },
  {
   "cell_type": "code",
   "execution_count": 5,
   "id": "422f1a62",
   "metadata": {},
   "outputs": [],
   "source": [
    "from sklearn.preprocessing import LabelEncoder\n",
    "\n",
    "# Encode the sentiment column\n",
    "encoder = LabelEncoder()\n",
    "rws['sentiment_encoded'] = encoder.fit_transform(rws['sentiment'])"
   ]
  },
  {
   "cell_type": "code",
   "execution_count": 6,
   "id": "6600e3a1",
   "metadata": {},
   "outputs": [
    {
     "data": {
      "text/html": [
       "<div>\n",
       "<style scoped>\n",
       "    .dataframe tbody tr th:only-of-type {\n",
       "        vertical-align: middle;\n",
       "    }\n",
       "\n",
       "    .dataframe tbody tr th {\n",
       "        vertical-align: top;\n",
       "    }\n",
       "\n",
       "    .dataframe thead th {\n",
       "        text-align: right;\n",
       "    }\n",
       "</style>\n",
       "<table border=\"1\" class=\"dataframe\">\n",
       "  <thead>\n",
       "    <tr style=\"text-align: right;\">\n",
       "      <th></th>\n",
       "      <th>Unnamed: 0</th>\n",
       "      <th>text</th>\n",
       "      <th>selected_text</th>\n",
       "      <th>sentiment</th>\n",
       "      <th>no_contract</th>\n",
       "      <th>tokenized</th>\n",
       "      <th>lower</th>\n",
       "      <th>no_punc</th>\n",
       "      <th>stopwords_removed</th>\n",
       "      <th>filtered</th>\n",
       "      <th>pos_tags</th>\n",
       "      <th>wordnet_pos</th>\n",
       "      <th>lemmatized</th>\n",
       "      <th>sentiment_encoded</th>\n",
       "    </tr>\n",
       "  </thead>\n",
       "  <tbody>\n",
       "    <tr>\n",
       "      <th>0</th>\n",
       "      <td>0</td>\n",
       "      <td>I`d have responded, if I were going</td>\n",
       "      <td>I`d have responded, if I were going</td>\n",
       "      <td>neutral</td>\n",
       "      <td>['I`d', 'have', 'responded,', 'if', 'I', 'were...</td>\n",
       "      <td>['I', '`', 'd', 'have', 'responded', ',', 'if'...</td>\n",
       "      <td>['i', '`', 'd', 'have', 'responded', ',', 'if'...</td>\n",
       "      <td>['i', 'd', 'have', 'responded', 'if', 'i', 'we...</td>\n",
       "      <td>['responded', 'going']</td>\n",
       "      <td>['responded', 'going']</td>\n",
       "      <td>[('responded', 'VBD'), ('going', 'VBG')]</td>\n",
       "      <td>[('responded', 'v'), ('going', 'v')]</td>\n",
       "      <td>['respond', 'go']</td>\n",
       "      <td>1</td>\n",
       "    </tr>\n",
       "    <tr>\n",
       "      <th>1</th>\n",
       "      <td>1</td>\n",
       "      <td>Sooo SAD I will miss you here in San Diego!!!</td>\n",
       "      <td>Sooo SAD</td>\n",
       "      <td>negative</td>\n",
       "      <td>['Sooo', 'SAD', 'I', 'will', 'miss', 'you', 'h...</td>\n",
       "      <td>['Sooo', 'SAD', 'I', 'will', 'miss', 'you', 'h...</td>\n",
       "      <td>['sooo', 'sad', 'i', 'will', 'miss', 'you', 'h...</td>\n",
       "      <td>['sooo', 'sad', 'i', 'will', 'miss', 'you', 'h...</td>\n",
       "      <td>['sooo', 'sad', 'miss', 'san', 'diego']</td>\n",
       "      <td>['sooo', 'sad', 'miss', 'san', 'diego']</td>\n",
       "      <td>[('sooo', 'JJ'), ('sad', 'JJ'), ('miss', 'NN')...</td>\n",
       "      <td>[('sooo', 'a'), ('sad', 'a'), ('miss', 'n'), (...</td>\n",
       "      <td>['sooo', 'sad', 'miss', 'san', 'diego']</td>\n",
       "      <td>0</td>\n",
       "    </tr>\n",
       "    <tr>\n",
       "      <th>2</th>\n",
       "      <td>2</td>\n",
       "      <td>my boss is bullying me...</td>\n",
       "      <td>bullying me</td>\n",
       "      <td>negative</td>\n",
       "      <td>['my', 'boss', 'is', 'bullying', 'me...']</td>\n",
       "      <td>['my', 'boss', 'is', 'bullying', 'me', '...']</td>\n",
       "      <td>['my', 'boss', 'is', 'bullying', 'me', '...']</td>\n",
       "      <td>['my', 'boss', 'is', 'bullying', 'me', '...']</td>\n",
       "      <td>['boss', 'bullying', '...']</td>\n",
       "      <td>['boss', 'bullying', '']</td>\n",
       "      <td>[('boss', 'IN'), ('bullying', 'VBG'), ('', 'NN')]</td>\n",
       "      <td>[('boss', 'n'), ('bullying', 'v'), ('', 'n')]</td>\n",
       "      <td>['bos', 'bully', '']</td>\n",
       "      <td>0</td>\n",
       "    </tr>\n",
       "    <tr>\n",
       "      <th>3</th>\n",
       "      <td>3</td>\n",
       "      <td>what interview! leave me alone</td>\n",
       "      <td>leave me alone</td>\n",
       "      <td>negative</td>\n",
       "      <td>['what', 'interview!', 'leave', 'me', 'alone']</td>\n",
       "      <td>['what', 'interview', '!', 'leave', 'me', 'alo...</td>\n",
       "      <td>['what', 'interview', '!', 'leave', 'me', 'alo...</td>\n",
       "      <td>['what', 'interview', 'leave', 'me', 'alone']</td>\n",
       "      <td>['interview', 'leave', 'alone']</td>\n",
       "      <td>['interview', 'leave', 'alone']</td>\n",
       "      <td>[('interview', 'NN'), ('leave', 'VBP'), ('alon...</td>\n",
       "      <td>[('interview', 'n'), ('leave', 'v'), ('alone',...</td>\n",
       "      <td>['interview', 'leave', 'alone']</td>\n",
       "      <td>0</td>\n",
       "    </tr>\n",
       "    <tr>\n",
       "      <th>4</th>\n",
       "      <td>4</td>\n",
       "      <td>Sons of ****, why couldn`t they put them on t...</td>\n",
       "      <td>Sons of ****,</td>\n",
       "      <td>negative</td>\n",
       "      <td>['Sons', 'of', '****,', 'why', 'couldn`t', 'th...</td>\n",
       "      <td>['Sons', 'of', '*', '*', '*', '*', ',', 'why',...</td>\n",
       "      <td>['sons', 'of', '*', '*', '*', '*', ',', 'why',...</td>\n",
       "      <td>['sons', 'of', 'why', 'couldn', 't', 'they', '...</td>\n",
       "      <td>['sons', 'put', 'releases', 'already', 'bought']</td>\n",
       "      <td>['sons', 'put', 'releases', 'already', 'bought']</td>\n",
       "      <td>[('sons', 'NNS'), ('put', 'VBP'), ('releases',...</td>\n",
       "      <td>[('sons', 'n'), ('put', 'v'), ('releases', 'n'...</td>\n",
       "      <td>['son', 'put', 'release', 'already', 'buy']</td>\n",
       "      <td>0</td>\n",
       "    </tr>\n",
       "  </tbody>\n",
       "</table>\n",
       "</div>"
      ],
      "text/plain": [
       "   Unnamed: 0                                               text  \\\n",
       "0           0                I`d have responded, if I were going   \n",
       "1           1      Sooo SAD I will miss you here in San Diego!!!   \n",
       "2           2                          my boss is bullying me...   \n",
       "3           3                     what interview! leave me alone   \n",
       "4           4   Sons of ****, why couldn`t they put them on t...   \n",
       "\n",
       "                         selected_text sentiment  \\\n",
       "0  I`d have responded, if I were going   neutral   \n",
       "1                             Sooo SAD  negative   \n",
       "2                          bullying me  negative   \n",
       "3                       leave me alone  negative   \n",
       "4                        Sons of ****,  negative   \n",
       "\n",
       "                                         no_contract  \\\n",
       "0  ['I`d', 'have', 'responded,', 'if', 'I', 'were...   \n",
       "1  ['Sooo', 'SAD', 'I', 'will', 'miss', 'you', 'h...   \n",
       "2          ['my', 'boss', 'is', 'bullying', 'me...']   \n",
       "3     ['what', 'interview!', 'leave', 'me', 'alone']   \n",
       "4  ['Sons', 'of', '****,', 'why', 'couldn`t', 'th...   \n",
       "\n",
       "                                           tokenized  \\\n",
       "0  ['I', '`', 'd', 'have', 'responded', ',', 'if'...   \n",
       "1  ['Sooo', 'SAD', 'I', 'will', 'miss', 'you', 'h...   \n",
       "2      ['my', 'boss', 'is', 'bullying', 'me', '...']   \n",
       "3  ['what', 'interview', '!', 'leave', 'me', 'alo...   \n",
       "4  ['Sons', 'of', '*', '*', '*', '*', ',', 'why',...   \n",
       "\n",
       "                                               lower  \\\n",
       "0  ['i', '`', 'd', 'have', 'responded', ',', 'if'...   \n",
       "1  ['sooo', 'sad', 'i', 'will', 'miss', 'you', 'h...   \n",
       "2      ['my', 'boss', 'is', 'bullying', 'me', '...']   \n",
       "3  ['what', 'interview', '!', 'leave', 'me', 'alo...   \n",
       "4  ['sons', 'of', '*', '*', '*', '*', ',', 'why',...   \n",
       "\n",
       "                                             no_punc  \\\n",
       "0  ['i', 'd', 'have', 'responded', 'if', 'i', 'we...   \n",
       "1  ['sooo', 'sad', 'i', 'will', 'miss', 'you', 'h...   \n",
       "2      ['my', 'boss', 'is', 'bullying', 'me', '...']   \n",
       "3      ['what', 'interview', 'leave', 'me', 'alone']   \n",
       "4  ['sons', 'of', 'why', 'couldn', 't', 'they', '...   \n",
       "\n",
       "                                  stopwords_removed  \\\n",
       "0                            ['responded', 'going']   \n",
       "1           ['sooo', 'sad', 'miss', 'san', 'diego']   \n",
       "2                       ['boss', 'bullying', '...']   \n",
       "3                   ['interview', 'leave', 'alone']   \n",
       "4  ['sons', 'put', 'releases', 'already', 'bought']   \n",
       "\n",
       "                                           filtered  \\\n",
       "0                            ['responded', 'going']   \n",
       "1           ['sooo', 'sad', 'miss', 'san', 'diego']   \n",
       "2                          ['boss', 'bullying', '']   \n",
       "3                   ['interview', 'leave', 'alone']   \n",
       "4  ['sons', 'put', 'releases', 'already', 'bought']   \n",
       "\n",
       "                                            pos_tags  \\\n",
       "0           [('responded', 'VBD'), ('going', 'VBG')]   \n",
       "1  [('sooo', 'JJ'), ('sad', 'JJ'), ('miss', 'NN')...   \n",
       "2  [('boss', 'IN'), ('bullying', 'VBG'), ('', 'NN')]   \n",
       "3  [('interview', 'NN'), ('leave', 'VBP'), ('alon...   \n",
       "4  [('sons', 'NNS'), ('put', 'VBP'), ('releases',...   \n",
       "\n",
       "                                         wordnet_pos  \\\n",
       "0               [('responded', 'v'), ('going', 'v')]   \n",
       "1  [('sooo', 'a'), ('sad', 'a'), ('miss', 'n'), (...   \n",
       "2      [('boss', 'n'), ('bullying', 'v'), ('', 'n')]   \n",
       "3  [('interview', 'n'), ('leave', 'v'), ('alone',...   \n",
       "4  [('sons', 'n'), ('put', 'v'), ('releases', 'n'...   \n",
       "\n",
       "                                    lemmatized  sentiment_encoded  \n",
       "0                            ['respond', 'go']                  1  \n",
       "1      ['sooo', 'sad', 'miss', 'san', 'diego']                  0  \n",
       "2                         ['bos', 'bully', '']                  0  \n",
       "3              ['interview', 'leave', 'alone']                  0  \n",
       "4  ['son', 'put', 'release', 'already', 'buy']                  0  "
      ]
     },
     "execution_count": 6,
     "metadata": {},
     "output_type": "execute_result"
    }
   ],
   "source": [
    "rws.head()"
   ]
  },
  {
   "cell_type": "markdown",
   "id": "e90703ab",
   "metadata": {},
   "source": [
    "# 4: Splitting Data into Training and Testing Sets\n",
    "\n",
    "You need to convert the text into numerical form by using techniques like TF-IDF or Bag of Words."
   ]
  },
  {
   "cell_type": "code",
   "execution_count": 7,
   "id": "b06685f5",
   "metadata": {},
   "outputs": [],
   "source": [
    "X = rws['lemmatized'].apply(lambda x: ' '.join(eval(x)))\n",
    "y = rws['sentiment_encoded']\n",
    "\n",
    "X_train, X_test, y_train, y_test = train_test_split(X, y, test_size=0.2, random_state=42)"
   ]
  },
  {
   "cell_type": "markdown",
   "id": "fb493007",
   "metadata": {},
   "source": [
    "# 5: Text Vectorization\n",
    "\n",
    "You need to convert the text into numerical form by using techniques like TF-IDF or Bag of Words."
   ]
  },
  {
   "cell_type": "code",
   "execution_count": 8,
   "id": "0fc1b0e1",
   "metadata": {},
   "outputs": [],
   "source": [
    "vectorizer = TfidfVectorizer()\n",
    "X_train_vectorized = vectorizer.fit_transform(X_train)\n",
    "X_test_vectorized = vectorizer.transform(X_test)"
   ]
  },
  {
   "cell_type": "code",
   "execution_count": 9,
   "id": "28227df1",
   "metadata": {},
   "outputs": [
    {
     "data": {
      "text/plain": [
       "<21984x20985 sparse matrix of type '<class 'numpy.float64'>'\n",
       "\twith 147500 stored elements in Compressed Sparse Row format>"
      ]
     },
     "execution_count": 9,
     "metadata": {},
     "output_type": "execute_result"
    }
   ],
   "source": [
    "X_train_vectorized"
   ]
  },
  {
   "cell_type": "markdown",
   "id": "fae06bcc",
   "metadata": {},
   "source": [
    "# 6: Building a Sentiment Analysis Model\n",
    "\n",
    "You can build a model using algorithms like Random Forest, Logistic Regression, etc. Here's an example using Logistic Regression."
   ]
  },
  {
   "cell_type": "code",
   "execution_count": 10,
   "id": "3b116c87",
   "metadata": {},
   "outputs": [
    {
     "name": "stdout",
     "output_type": "stream",
     "text": [
      "Accuracy: 0.6854075691411936\n",
      "              precision    recall  f1-score   support\n",
      "\n",
      "           0       0.70      0.57      0.63      1572\n",
      "           1       0.63      0.75      0.68      2236\n",
      "           2       0.77      0.72      0.74      1688\n",
      "\n",
      "    accuracy                           0.69      5496\n",
      "   macro avg       0.70      0.68      0.68      5496\n",
      "weighted avg       0.69      0.69      0.68      5496\n",
      "\n"
     ]
    },
    {
     "name": "stderr",
     "output_type": "stream",
     "text": [
      "/Users/gurkirankaur/opt/anaconda3/lib/python3.9/site-packages/sklearn/linear_model/_logistic.py:814: ConvergenceWarning: lbfgs failed to converge (status=1):\n",
      "STOP: TOTAL NO. of ITERATIONS REACHED LIMIT.\n",
      "\n",
      "Increase the number of iterations (max_iter) or scale the data as shown in:\n",
      "    https://scikit-learn.org/stable/modules/preprocessing.html\n",
      "Please also refer to the documentation for alternative solver options:\n",
      "    https://scikit-learn.org/stable/modules/linear_model.html#logistic-regression\n",
      "  n_iter_i = _check_optimize_result(\n"
     ]
    }
   ],
   "source": [
    "model = LogisticRegression()\n",
    "model.fit(X_train_vectorized, y_train)\n",
    "\n",
    "# Making predictions\n",
    "y_pred = model.predict(X_test_vectorized)\n",
    "\n",
    "# Evaluating the model\n",
    "accuracy = accuracy_score(y_test, y_pred)\n",
    "print(f'Accuracy: {accuracy}')\n",
    "print(classification_report(y_test, y_pred))"
   ]
  },
  {
   "cell_type": "markdown",
   "id": "c41cf798",
   "metadata": {},
   "source": [
    "# 7: Confusion Matrix\n",
    "\n",
    "You can use confusion_matrix from sklearn.metrics to create a confusion matrix."
   ]
  },
  {
   "cell_type": "code",
   "execution_count": 11,
   "id": "df1a1be7",
   "metadata": {},
   "outputs": [
    {
     "data": {
      "image/png": "[encoded data removed]",
      "text/plain": [
       "<Figure size 432x288 with 2 Axes>"
      ]
     },
     "metadata": {
      "needs_background": "light"
     },
     "output_type": "display_data"
    }
   ],
   "source": [
    "# For Logistic Regression\n",
    "y_pred = model.predict(X_test_vectorized)\n",
    "cm = confusion_matrix(y_test, y_pred)\n",
    "\n",
    "# Visualization\n",
    "sns.heatmap(cm, annot=True, fmt=\"d\")\n",
    "plt.title('Confusion matrix for Logistic Regression')\n",
    "plt.ylabel('True label')\n",
    "plt.xlabel('Predicted label')\n",
    "plt.show()"
   ]
  },
  {
   "cell_type": "markdown",
   "id": "f0b5c4ab",
   "metadata": {},
   "source": [
    "# 8: ROC Metrics \n",
    "\n",
    "ROC curves are typically used for binary classification. If you have a multi-class problem, the ROC can be generated using either of the two options:\n",
    "\n",
    "**1.One-vs-All ROC Curve**: You can plot the ROC curve for each class against the rest. This approach treats the problem as a series of binary classification tasks.\n",
    "\n",
    "**2.Micro and Macro Averaging**: You can compute the micro and macro average ROC curves. Micro-averaging aggregates the contributions of all classes, whereas macro-averaging computes the metric independently for each class and then takes the average."
   ]
  },
  {
   "cell_type": "code",
   "execution_count": 12,
   "id": "b6b6141e",
   "metadata": {},
   "outputs": [
    {
     "data": {
      "image/png": "[encoded data removed]",
      "text/plain": [
       "<Figure size 432x288 with 1 Axes>"
      ]
     },
     "metadata": {
      "needs_background": "light"
     },
     "output_type": "display_data"
    }
   ],
   "source": [
    "# Binarize the output\n",
    "y = label_binarize(y, classes=[0, 1, 2])  # Assuming you have 3 classes\n",
    "n_classes = y.shape[1]\n",
    "\n",
    "# Split into training and testing again\n",
    "X_train, X_test, y_train, y_test = train_test_split(X, y, test_size=0.2, random_state=42)\n",
    "\n",
    "# Learn to predict each class against the other using the classifier of your choice\n",
    "classifier = OneVsRestClassifier(LogisticRegression())\n",
    "y_score = classifier.fit(X_train_vectorized, y_train).decision_function(X_test_vectorized)\n",
    "\n",
    "# Compute ROC curve and ROC area for each class\n",
    "fpr = dict()\n",
    "tpr = dict()\n",
    "roc_auc = dict()\n",
    "for i in range(n_classes):\n",
    "    fpr[i], tpr[i], _ = roc_curve(y_test[:, i], y_score[:, i])\n",
    "    roc_auc[i] = auc(fpr[i], tpr[i])\n",
    "\n",
    "# Plot the ROC curve\n",
    "for i in range(n_classes):\n",
    "    plt.plot(fpr[i], tpr[i], label=f'ROC curve of class {i} (area = {roc_auc[i]:0.2f})')\n",
    "\n",
    "plt.plot([0, 1], [0, 1], 'k--')\n",
    "plt.xlim([0.0, 1.0])\n",
    "plt.ylim([0.0, 1.05])\n",
    "plt.xlabel('False Positive Rate')\n",
    "plt.ylabel('True Positive Rate')\n",
    "plt.title('Receiver Operating Characteristic for Multi-Class')\n",
    "plt.legend(loc=\"lower right\")\n",
    "plt.show()"
   ]
  }
 ],
 "metadata": {
  "kernelspec": {
   "display_name": "Python 3 (ipykernel)",
   "language": "python",
   "name": "python3"
  },
  "language_info": {
   "codemirror_mode": {
    "name": "ipython",
    "version": 3
   },
   "file_extension": ".py",
   "mimetype": "text/x-python",
   "name": "python",
   "nbconvert_exporter": "python",
   "pygments_lexer": "ipython3",
   "version": "3.9.12"
  }
 },
 "nbformat": 4,
 "nbformat_minor": 5
}
